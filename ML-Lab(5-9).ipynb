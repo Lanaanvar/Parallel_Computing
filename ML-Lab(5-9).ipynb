{
 "cells": [
  {
   "cell_type": "markdown",
   "metadata": {},
   "source": [
    "*QUESTION 5*"
   ]
  },
  {
   "cell_type": "code",
   "execution_count": 1,
   "metadata": {},
   "outputs": [],
   "source": [
    "import pandas as pd"
   ]
  },
  {
   "cell_type": "code",
   "execution_count": 23,
   "metadata": {},
   "outputs": [
    {
     "name": "stdout",
     "output_type": "stream",
     "text": [
      "   Member_number       Date   itemDescription\n",
      "0           1808 2015-07-21    tropical fruit\n",
      "1           2552 2015-01-05        whole milk\n",
      "2           2300 2015-09-19         pip fruit\n",
      "3           1187 2015-12-12  other vegetables\n",
      "4           3037 2015-02-01        whole milk\n",
      "Transaction Info : (38765, 3)\n"
     ]
    }
   ],
   "source": [
    "grocery_data_path = 'grocery data\\Groceries_dataset.csv'\n",
    "grocery_data = pd.read_csv(grocery_data_path)\n",
    "\n",
    "grocery_data['Date'] = pd.to_datetime(grocery_data['Date'], format='%d-%m-%Y')\n",
    "\n",
    "print(grocery_data.head())\n",
    "print(f\"Transaction Info : {grocery_data.shape}\")"
   ]
  },
  {
   "cell_type": "code",
   "execution_count": 13,
   "metadata": {},
   "outputs": [
    {
     "name": "stdout",
     "output_type": "stream",
     "text": [
      "Total Unique Items : 167\n",
      "Unique Items : {'flour', 'frozen chicken', 'bathroom cleaner', 'citrus fruit', 'sugar', 'sliced cheese', 'specialty cheese', 'snack products', 'baking powder', 'frozen dessert', 'potato products', 'yogurt', 'canned beer', 'frozen potato products', 'other vegetables', 'flower (seeds)', 'popcorn', 'sweet spreads', 'softener', 'canned vegetables', 'dessert', 'artif. sweetener', 'ham', 'dish cleaner', 'meat', 'prosecco', 'cat food', 'cookware', 'meat spreads', 'sausage', 'frankfurter', 'vinegar', 'brandy', 'organic sausage', 'candy', 'misc. beverages', 'coffee', 'dog food', 'pet care', 'frozen fruits', 'male cosmetics', 'skin care', 'liver loaf', 'mustard', 'specialty fat', 'hard cheese', 'sauces', 'detergent', 'kitchen utensil', 'photo/film', 'long life bakery product', 'cereals', 'liquor (appetizer)', 'dishes', 'hamburger meat', 'white bread', 'red/blush wine', 'chocolate', 'spices', 'whole milk', 'chicken', 'rum', 'specialty vegetables', 'processed cheese', 'berries', 'soft cheese', 'baby cosmetics', 'toilet cleaner', 'pasta', 'curd', 'nuts/prunes', 'whisky', 'rice', 'specialty bar', 'cake bar', 'hygiene articles', 'flower soil/fertilizer', 'root vegetables', 'bottled water', 'frozen vegetables', 'zwieback', 'cleaner', 'oil', 'margarine', 'specialty chocolate', 'pudding powder', 'candles', 'female sanitary products', 'cream', 'butter milk', 'light bulbs', 'ice cream', 'grapes', 'liquor', 'tea', 'nut snack', 'pastry', 'pot plants', 'whipped/sour cream', 'frozen fish', 'shopping bags', 'syrup', 'salty snack', 'rolls/buns', 'condensed milk', 'beef', 'finished products', 'canned fish', 'preservation products', 'soda', 'sparkling wine', 'rubbing alcohol', 'salad dressing', 'honey', 'turkey', 'pickled vegetables', 'organic products', 'curd cheese', 'liqueur', 'roll products ', 'cling film/bags', 'beverages', 'herbs', 'fish', 'cream cheese ', 'soups', 'ready soups', 'pip fruit', 'house keeping products', 'instant coffee', 'tidbits', 'cooking chocolate', 'soap', 'butter', 'kitchen towels', 'abrasive cleaner', 'canned fruit', 'dental care', 'cocoa drinks', 'make up remover', 'napkins', 'frozen meals', 'bottled beer', 'packaged fruit/vegetables', 'chewing gum', 'Instant food products', 'waffles', 'white wine', 'brown bread', 'decalcifier', 'fruit/vegetable juice', 'mayonnaise', 'spread cheese', 'pork', 'jam', 'ketchup', 'chocolate marshmallow', 'hair spray', 'semi-finished bread', 'tropical fruit', 'bags', 'UHT-milk', 'domestic eggs', 'seasonal products', 'newspapers', 'onions', 'salt'}\n"
     ]
    }
   ],
   "source": [
    "def individual_itemset(data):\n",
    "    unique_items = set(data['itemDescription'])\n",
    "    print(f\"Total Unique Items : {len(unique_items)}\")\n",
    "    print(f\"Unique Items : {unique_items}\")\n",
    "    return unique_items\n",
    "\n",
    "unique_items = individual_itemset(grocery_data)"
   ]
  },
  {
   "cell_type": "code",
   "execution_count": 22,
   "metadata": {},
   "outputs": [
    {
     "name": "stdout",
     "output_type": "stream",
     "text": [
      "              Category  Count\n",
      "0           whole milk   2502\n",
      "1     other vegetables   1898\n",
      "2           rolls/buns   1716\n",
      "3                 soda   1514\n",
      "4               yogurt   1334\n",
      "5      root vegetables   1071\n",
      "6       tropical fruit   1032\n",
      "7        bottled water    933\n",
      "8              sausage    924\n",
      "9         citrus fruit    812\n",
      "10              pastry    785\n",
      "11           pip fruit    744\n",
      "12       shopping bags    731\n",
      "13         canned beer    717\n",
      "14        bottled beer    687\n",
      "15  whipped/sour cream    662\n",
      "16          newspapers    596\n",
      "17         frankfurter    580\n",
      "18         brown bread    571\n",
      "19                pork    566\n"
     ]
    }
   ],
   "source": [
    "df = grocery_data[\"itemDescription\"].value_counts()[:20].reset_index()\n",
    "df.columns = [\"Category\", \"Count\"]\n",
    "print(df)"
   ]
  },
  {
   "cell_type": "code",
   "execution_count": 24,
   "metadata": {},
   "outputs": [
    {
     "name": "stdout",
     "output_type": "stream",
     "text": [
      "   Member_number       Date   itemDescription Single_transaction\n",
      "0           1808 2015-07-21    tropical fruit    1808_2015-07-21\n",
      "1           2552 2015-01-05        whole milk    2552_2015-01-05\n",
      "2           2300 2015-09-19         pip fruit    2300_2015-09-19\n",
      "3           1187 2015-12-12  other vegetables    1187_2015-12-12\n",
      "4           3037 2015-02-01        whole milk    3037_2015-02-01\n"
     ]
    }
   ],
   "source": [
    "grocery_data[\"Single_transaction\"] = grocery_data[\"Member_number\"].astype(str) + \"_\" + grocery_data[\"Date\"].astype(str)\n",
    "\n",
    "print(grocery_data.head())"
   ]
  },
  {
   "cell_type": "code",
   "execution_count": 28,
   "metadata": {},
   "outputs": [
    {
     "name": "stdout",
     "output_type": "stream",
     "text": [
      "[['whole milk', 'pastry', 'salty snack'], ['sausage', 'whole milk', 'semi-finished bread', 'yogurt'], ['soda', 'pickled vegetables'], ['canned beer', 'misc. beverages'], ['sausage', 'hygiene articles']]\n"
     ]
    }
   ],
   "source": [
    "transaction_data = grocery_data.groupby(\"Single_transaction\")[\"itemDescription\"].apply(list).tolist()\n",
    "print(transaction_data[:5])"
   ]
  },
  {
   "cell_type": "code",
   "execution_count": 34,
   "metadata": {},
   "outputs": [
    {
     "name": "stdout",
     "output_type": "stream",
     "text": [
      "   Instant food products  UHT-milk  abrasive cleaner  artif. sweetener  \\\n",
      "0                  False     False             False             False   \n",
      "1                  False     False             False             False   \n",
      "2                  False     False             False             False   \n",
      "3                  False     False             False             False   \n",
      "4                  False     False             False             False   \n",
      "\n",
      "   baby cosmetics   bags  baking powder  bathroom cleaner   beef  berries  \\\n",
      "0           False  False          False             False  False    False   \n",
      "1           False  False          False             False  False    False   \n",
      "2           False  False          False             False  False    False   \n",
      "3           False  False          False             False  False    False   \n",
      "4           False  False          False             False  False    False   \n",
      "\n",
      "   ...  turkey  vinegar  waffles  whipped/sour cream  whisky  white bread  \\\n",
      "0  ...   False    False    False               False   False        False   \n",
      "1  ...   False    False    False               False   False        False   \n",
      "2  ...   False    False    False               False   False        False   \n",
      "3  ...   False    False    False               False   False        False   \n",
      "4  ...   False    False    False               False   False        False   \n",
      "\n",
      "   white wine  whole milk  yogurt  zwieback  \n",
      "0       False        True   False     False  \n",
      "1       False        True    True     False  \n",
      "2       False       False   False     False  \n",
      "3       False       False   False     False  \n",
      "4       False       False   False     False  \n",
      "\n",
      "[5 rows x 167 columns]\n",
      "Instant food products      60\n",
      "UHT-milk                  320\n",
      "abrasive cleaner           22\n",
      "artif. sweetener           29\n",
      "baby cosmetics              3\n",
      "                         ... \n",
      "white bread               359\n",
      "white wine                175\n",
      "whole milk               2363\n",
      "yogurt                   1285\n",
      "zwieback                   60\n",
      "Length: 167, dtype: int64\n"
     ]
    }
   ],
   "source": [
    "import numpy as np\n",
    "from mlxtend.preprocessing import TransactionEncoder\n",
    "\n",
    "te = TransactionEncoder()\n",
    "te_ary = te.fit(transaction_data).transform(transaction_data)\n",
    "df = pd.DataFrame(te_ary, columns=te.columns_)\n",
    "print(df.head())\n",
    "print(df.sum())"
   ]
  },
  {
   "cell_type": "code",
   "execution_count": 53,
   "metadata": {},
   "outputs": [
    {
     "name": "stdout",
     "output_type": "stream",
     "text": [
      "     support                        itemsets\n",
      "0   0.021386                      (UHT-milk)\n",
      "1   0.033950                          (beef)\n",
      "2   0.021787                       (berries)\n",
      "3   0.016574                     (beverages)\n",
      "4   0.045312                  (bottled beer)\n",
      "..       ...                             ...\n",
      "64  0.010559  (rolls/buns, other vegetables)\n",
      "65  0.014837  (whole milk, other vegetables)\n",
      "66  0.013968        (rolls/buns, whole milk)\n",
      "67  0.011629              (soda, whole milk)\n",
      "68  0.011161            (yogurt, whole milk)\n",
      "\n",
      "[69 rows x 2 columns]\n"
     ]
    }
   ],
   "source": [
    "from mlxtend.frequent_patterns import apriori\n",
    "\n",
    "apriori_data = apriori(df, min_support=0.01, use_colnames=True)\n",
    "print(apriori_data)"
   ]
  },
  {
   "cell_type": "code",
   "execution_count": 55,
   "metadata": {},
   "outputs": [
    {
     "name": "stdout",
     "output_type": "stream",
     "text": [
      "          antecedents         consequents  antecedent support  \\\n",
      "0        (rolls/buns)  (other vegetables)            0.110005   \n",
      "1  (other vegetables)        (rolls/buns)            0.122101   \n",
      "2        (whole milk)  (other vegetables)            0.157923   \n",
      "3  (other vegetables)        (whole milk)            0.122101   \n",
      "4        (rolls/buns)        (whole milk)            0.110005   \n",
      "5        (whole milk)        (rolls/buns)            0.157923   \n",
      "6              (soda)        (whole milk)            0.097106   \n",
      "7        (whole milk)              (soda)            0.157923   \n",
      "8            (yogurt)        (whole milk)            0.085879   \n",
      "9        (whole milk)            (yogurt)            0.157923   \n",
      "\n",
      "   consequent support   support  confidence      lift  representativity  \\\n",
      "0            0.122101  0.010559    0.095990  0.786154               1.0   \n",
      "1            0.110005  0.010559    0.086481  0.786154               1.0   \n",
      "2            0.122101  0.014837    0.093948  0.769430               1.0   \n",
      "3            0.157923  0.014837    0.121511  0.769430               1.0   \n",
      "4            0.157923  0.013968    0.126974  0.804028               1.0   \n",
      "5            0.110005  0.013968    0.088447  0.804028               1.0   \n",
      "6            0.157923  0.011629    0.119752  0.758296               1.0   \n",
      "7            0.097106  0.011629    0.073635  0.758296               1.0   \n",
      "8            0.157923  0.011161    0.129961  0.822940               1.0   \n",
      "9            0.085879  0.011161    0.070673  0.822940               1.0   \n",
      "\n",
      "   leverage  conviction  zhangs_metric   jaccard  certainty  kulczynski  \n",
      "0 -0.002872    0.971117      -0.234091  0.047662  -0.029742    0.091235  \n",
      "1 -0.002872    0.974249      -0.236553  0.047662  -0.026432    0.091235  \n",
      "2 -0.004446    0.968928      -0.262461  0.055948  -0.032068    0.107730  \n",
      "3 -0.004446    0.958551      -0.254477  0.055948  -0.043241    0.107730  \n",
      "4 -0.003404    0.964550      -0.214986  0.055000  -0.036752    0.107711  \n",
      "5 -0.003404    0.976350      -0.224474  0.055000  -0.024222    0.107711  \n",
      "6 -0.003707    0.956636      -0.260917  0.047776  -0.045329    0.096694  \n",
      "7 -0.003707    0.974663      -0.274587  0.047776  -0.025995    0.096694  \n",
      "8 -0.002401    0.967861      -0.190525  0.047975  -0.033206    0.100317  \n",
      "9 -0.002401    0.983638      -0.203508  0.047975  -0.016634    0.100317  \n"
     ]
    }
   ],
   "source": [
    "from mlxtend.frequent_patterns import association_rules\n",
    "\n",
    "association_data = association_rules(apriori_data, metric=\"confidence\", min_threshold=0.01)\n",
    "print(association_data)"
   ]
  },
  {
   "cell_type": "code",
   "execution_count": 58,
   "metadata": {},
   "outputs": [
    {
     "name": "stdout",
     "output_type": "stream",
     "text": [
      "    antecedents   consequents  antecedent support  consequent support  \\\n",
      "4  (rolls/buns)  (whole milk)            0.110005            0.157923   \n",
      "8      (yogurt)  (whole milk)            0.085879            0.157923   \n",
      "\n",
      "    support  confidence      lift  representativity  leverage  conviction  \\\n",
      "4  0.013968    0.126974  0.804028               1.0 -0.003404    0.964550   \n",
      "8  0.011161    0.129961  0.822940               1.0 -0.002401    0.967861   \n",
      "\n",
      "   zhangs_metric   jaccard  certainty  kulczynski  \n",
      "4      -0.214986  0.055000  -0.036752    0.107711  \n",
      "8      -0.190525  0.047975  -0.033206    0.100317  \n"
     ]
    }
   ],
   "source": [
    "filtered_data = association_data[(association_data['confidence'] > 0.1) & (association_data['lift'] > 0.8)]\n",
    "print(filtered_data)"
   ]
  }
 ],
 "metadata": {
  "kernelspec": {
   "display_name": ".venv",
   "language": "python",
   "name": "python3"
  },
  "language_info": {
   "codemirror_mode": {
    "name": "ipython",
    "version": 3
   },
   "file_extension": ".py",
   "mimetype": "text/x-python",
   "name": "python",
   "nbconvert_exporter": "python",
   "pygments_lexer": "ipython3",
   "version": "3.11.7"
  }
 },
 "nbformat": 4,
 "nbformat_minor": 2
}
